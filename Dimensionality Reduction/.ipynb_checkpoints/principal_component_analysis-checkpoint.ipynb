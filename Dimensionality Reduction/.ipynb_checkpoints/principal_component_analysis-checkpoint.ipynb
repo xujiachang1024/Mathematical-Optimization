{
 "cells": [
  {
   "cell_type": "markdown",
   "metadata": {},
   "source": [
    "# Principal Component Analysis in 3 Steps\n",
    "Ernest Xu"
   ]
  },
  {
   "cell_type": "markdown",
   "metadata": {},
   "source": [
    "### Import Dependencies"
   ]
  },
  {
   "cell_type": "code",
   "execution_count": 1,
   "metadata": {
    "collapsed": true
   },
   "outputs": [],
   "source": [
    "# import dependencies\n",
    "import pandas as pd\n",
    "import numpy as np\n",
    "import matplotlib.pyplot as plt\n",
    "from sklearn.preprocessing import StandardScaler\n",
    "%matplotlib inline"
   ]
  },
  {
   "cell_type": "markdown",
   "metadata": {},
   "source": [
    "### Load Iris Dataset"
   ]
  },
  {
   "cell_type": "code",
   "execution_count": 2,
   "metadata": {
    "collapsed": true
   },
   "outputs": [],
   "source": [
    "# read the iris dataset\n",
    "def load_iris_dataset():\n",
    "    # read data from csv file\n",
    "    df = pd.read_csv(filepath_or_buffer=\"./iris.data\", header=None, sep=',')\n",
    "    # put in column names\n",
    "    df.columns = ['sepal_len', 'sepal_wid', 'petal_len', 'petal_wid', 'class']\n",
    "    # drop the empty line at end-of-file\n",
    "    df.dropna(how=\"all\", inplace=True)\n",
    "    return df"
   ]
  },
  {
   "cell_type": "code",
   "execution_count": 3,
   "metadata": {},
   "outputs": [
    {
     "data": {
      "text/html": [
       "<div>\n",
       "<style>\n",
       "    .dataframe thead tr:only-child th {\n",
       "        text-align: right;\n",
       "    }\n",
       "\n",
       "    .dataframe thead th {\n",
       "        text-align: left;\n",
       "    }\n",
       "\n",
       "    .dataframe tbody tr th {\n",
       "        vertical-align: top;\n",
       "    }\n",
       "</style>\n",
       "<table border=\"1\" class=\"dataframe\">\n",
       "  <thead>\n",
       "    <tr style=\"text-align: right;\">\n",
       "      <th></th>\n",
       "      <th>sepal_len</th>\n",
       "      <th>sepal_wid</th>\n",
       "      <th>petal_len</th>\n",
       "      <th>petal_wid</th>\n",
       "      <th>class</th>\n",
       "    </tr>\n",
       "  </thead>\n",
       "  <tbody>\n",
       "    <tr>\n",
       "      <th>0</th>\n",
       "      <td>5.1</td>\n",
       "      <td>3.5</td>\n",
       "      <td>1.4</td>\n",
       "      <td>0.2</td>\n",
       "      <td>Iris-setosa</td>\n",
       "    </tr>\n",
       "    <tr>\n",
       "      <th>1</th>\n",
       "      <td>4.9</td>\n",
       "      <td>3.0</td>\n",
       "      <td>1.4</td>\n",
       "      <td>0.2</td>\n",
       "      <td>Iris-setosa</td>\n",
       "    </tr>\n",
       "    <tr>\n",
       "      <th>2</th>\n",
       "      <td>4.7</td>\n",
       "      <td>3.2</td>\n",
       "      <td>1.3</td>\n",
       "      <td>0.2</td>\n",
       "      <td>Iris-setosa</td>\n",
       "    </tr>\n",
       "    <tr>\n",
       "      <th>3</th>\n",
       "      <td>4.6</td>\n",
       "      <td>3.1</td>\n",
       "      <td>1.5</td>\n",
       "      <td>0.2</td>\n",
       "      <td>Iris-setosa</td>\n",
       "    </tr>\n",
       "    <tr>\n",
       "      <th>4</th>\n",
       "      <td>5.0</td>\n",
       "      <td>3.6</td>\n",
       "      <td>1.4</td>\n",
       "      <td>0.2</td>\n",
       "      <td>Iris-setosa</td>\n",
       "    </tr>\n",
       "    <tr>\n",
       "      <th>5</th>\n",
       "      <td>5.4</td>\n",
       "      <td>3.9</td>\n",
       "      <td>1.7</td>\n",
       "      <td>0.4</td>\n",
       "      <td>Iris-setosa</td>\n",
       "    </tr>\n",
       "  </tbody>\n",
       "</table>\n",
       "</div>"
      ],
      "text/plain": [
       "   sepal_len  sepal_wid  petal_len  petal_wid        class\n",
       "0        5.1        3.5        1.4        0.2  Iris-setosa\n",
       "1        4.9        3.0        1.4        0.2  Iris-setosa\n",
       "2        4.7        3.2        1.3        0.2  Iris-setosa\n",
       "3        4.6        3.1        1.5        0.2  Iris-setosa\n",
       "4        5.0        3.6        1.4        0.2  Iris-setosa\n",
       "5        5.4        3.9        1.7        0.4  Iris-setosa"
      ]
     },
     "execution_count": 3,
     "metadata": {},
     "output_type": "execute_result"
    }
   ],
   "source": [
    "df = load_iris_dataset()\n",
    "df.head(n=6)"
   ]
  },
  {
   "cell_type": "markdown",
   "metadata": {},
   "source": [
    "### Split to Feature Matrix and Label Vector"
   ]
  },
  {
   "cell_type": "code",
   "execution_count": 4,
   "metadata": {
    "collapsed": true
   },
   "outputs": [],
   "source": [
    "# split the DataFrame into data X and class y\n",
    "def split_iris_dataset(df):\n",
    "    X = df.iloc[:, 0:4].values\n",
    "    y = df.iloc[:, 4].values\n",
    "    return X, y"
   ]
  },
  {
   "cell_type": "code",
   "execution_count": 5,
   "metadata": {},
   "outputs": [
    {
     "name": "stdout",
     "output_type": "stream",
     "text": [
      "Feature matrix X, size: 150\n",
      "Label vector y, size: 150\n"
     ]
    }
   ],
   "source": [
    "X, y = split_iris_dataset(df)\n",
    "print(\"Feature matrix X, size: %s\" % X.shape[0])\n",
    "print(\"Label vector y, size: %s\" % y.shape[0])"
   ]
  },
  {
   "cell_type": "markdown",
   "metadata": {},
   "source": [
    "### Exploratory Visualization"
   ]
  },
  {
   "cell_type": "code",
   "execution_count": 6,
   "metadata": {
    "collapsed": true
   },
   "outputs": [],
   "source": [
    "# plot histograms of 3 different classes\n",
    "def plot_histogram(X, y):\n",
    "\n",
    "    # feature dictionary\n",
    "    feature_dict = {0: 'sepal length [cm]',\n",
    "                    1: 'sepal width [cm]',\n",
    "                    2: 'petal length [cm]',\n",
    "                    3: 'petal width [cm]'}\n",
    "\n",
    "    with plt.style.context('seaborn-whitegrid'):\n",
    "        plt.figure(figsize=(8, 6))\n",
    "        for index_feature in range(4):\n",
    "            plt.subplot(2, 2, index_feature + 1)\n",
    "            for label in ('Iris-setosa', 'Iris-versicolor', 'Iris-virginica'):\n",
    "                plt.hist(X[y == label, index_feature],\n",
    "                         label=label,\n",
    "                         bins=10,\n",
    "                         alpha=0.3, )\n",
    "            plt.xlabel(feature_dict[index_feature])\n",
    "        plt.legend(loc='upper right', fancybox=True, fontsize=8)\n",
    "\n",
    "        plt.tight_layout()\n",
    "        plt.show()"
   ]
  },
  {
   "cell_type": "code",
   "execution_count": 7,
   "metadata": {},
   "outputs": [
    {
     "data": {
      "image/png": "[encoded data removed]",
      "text/plain": [
       "<matplotlib.figure.Figure at 0x1a0d4d3cf8>"
      ]
     },
     "metadata": {},
     "output_type": "display_data"
    }
   ],
   "source": [
    "plot_histogram(X, y)"
   ]
  },
  {
   "cell_type": "markdown",
   "metadata": {},
   "source": [
    "### Standardizing Feature Matrix"
   ]
  },
  {
   "cell_type": "code",
   "execution_count": 8,
   "metadata": {
    "collapsed": true
   },
   "outputs": [],
   "source": [
    "# standardize X\n",
    "def standardize(X):\n",
    "    X_standardized = StandardScaler().fit_transform(X)\n",
    "    return X_standardized"
   ]
  },
  {
   "cell_type": "code",
   "execution_count": 9,
   "metadata": {
    "collapsed": true
   },
   "outputs": [],
   "source": [
    "X_standardized = standardize(X)"
   ]
  },
  {
   "cell_type": "markdown",
   "metadata": {},
   "source": [
    "## Step 1: Eigendecomposition\n",
    "The eigenvectors and eigenvalues of a covariance/correlation matrix represent the \"core\" of a PCA: the eigenvectors (principal components) determine the directions of the new feature space, and the eigenvalues determine their magnitude. In other words, the eigenvalues explain the variance of the data along the new feature axes."
   ]
  },
  {
   "cell_type": "markdown",
   "metadata": {},
   "source": [
    "### Covariance Matrix"
   ]
  },
  {
   "cell_type": "code",
   "execution_count": 10,
   "metadata": {
    "collapsed": true
   },
   "outputs": [],
   "source": [
    "# calculate covariance matrix\n",
    "def calculate_covariance_matrix(X_standardized):\n",
    "    covariance_matrix = np.cov(X_standardized.T)\n",
    "    return covariance_matrix"
   ]
  },
  {
   "cell_type": "code",
   "execution_count": 11,
   "metadata": {},
   "outputs": [
    {
     "name": "stdout",
     "output_type": "stream",
     "text": [
      "NumPy covariance matrix: \n",
      "[[ 1.00671141 -0.11010327  0.87760486  0.82344326]\n",
      " [-0.11010327  1.00671141 -0.42333835 -0.358937  ]\n",
      " [ 0.87760486 -0.42333835  1.00671141  0.96921855]\n",
      " [ 0.82344326 -0.358937    0.96921855  1.00671141]]\n"
     ]
    }
   ],
   "source": [
    "covariance_matrix = calculate_covariance_matrix(X_standardized)\n",
    "print('NumPy covariance matrix: \\n%s' % covariance_matrix)"
   ]
  },
  {
   "cell_type": "markdown",
   "metadata": {},
   "source": [
    "### Correlation Matrix"
   ]
  },
  {
   "cell_type": "code",
   "execution_count": 12,
   "metadata": {
    "collapsed": true
   },
   "outputs": [],
   "source": [
    "# calculate correlation matrix\n",
    "def calculate_correlation_matrix(X_standardized):\n",
    "    correlation_matrix = np.corrcoef(X_standardized.T)\n",
    "    return correlation_matrix"
   ]
  },
  {
   "cell_type": "code",
   "execution_count": 13,
   "metadata": {},
   "outputs": [
    {
     "name": "stdout",
     "output_type": "stream",
     "text": [
      "NumPy correlation matrix \n",
      "[[ 1.         -0.10936925  0.87175416  0.81795363]\n",
      " [-0.10936925  1.         -0.4205161  -0.35654409]\n",
      " [ 0.87175416 -0.4205161   1.          0.9627571 ]\n",
      " [ 0.81795363 -0.35654409  0.9627571   1.        ]]\n"
     ]
    }
   ],
   "source": [
    "correlation_matrix = calculate_correlation_matrix(X_standardized)\n",
    "print('NumPy correlation matrix \\n%s' % correlation_matrix)"
   ]
  },
  {
   "cell_type": "markdown",
   "metadata": {},
   "source": [
    "### Calculating Eigenvalues & Eigenvectors"
   ]
  },
  {
   "cell_type": "code",
   "execution_count": 14,
   "metadata": {
    "collapsed": true
   },
   "outputs": [],
   "source": [
    "# perform eigen decomposition\n",
    "def eigen_decomposition(X_standardized, method='covariance'):\n",
    "    if method == 'covariance':\n",
    "        matrix = calculate_covariance_matrix(X_standardized=X_standardized)\n",
    "    elif method == 'correlation':\n",
    "        matrix = calculate_correlation_matrix(X_standardized=X_standardized)\n",
    "    else:\n",
    "        matrix = None\n",
    "    eigen_values, eigen_vectors = np.linalg.eig(matrix)\n",
    "    return eigen_values, eigen_vectors"
   ]
  },
  {
   "cell_type": "markdown",
   "metadata": {},
   "source": [
    "#### Eigendecomposition with Covariance Matrix"
   ]
  },
  {
   "cell_type": "code",
   "execution_count": 15,
   "metadata": {},
   "outputs": [
    {
     "name": "stdout",
     "output_type": "stream",
     "text": [
      "Eigenvalues with covariance matrix: \n",
      "[ 2.93035378  0.92740362  0.14834223  0.02074601]\n",
      "Eigenvectors with covariance matrix: \n",
      "[[ 0.52237162 -0.37231836 -0.72101681  0.26199559]\n",
      " [-0.26335492 -0.92555649  0.24203288 -0.12413481]\n",
      " [ 0.58125401 -0.02109478  0.14089226 -0.80115427]\n",
      " [ 0.56561105 -0.06541577  0.6338014   0.52354627]]\n"
     ]
    }
   ],
   "source": [
    "eigen_values, eigen_vectors = eigen_decomposition(X_standardized, method='covariance')\n",
    "print('Eigenvalues with covariance matrix: \\n%s' % eigen_values)\n",
    "print('Eigenvectors with covariance matrix: \\n%s' % eigen_vectors)"
   ]
  },
  {
   "cell_type": "markdown",
   "metadata": {},
   "source": [
    "#### Eigendecomposition with Correlation Matrix"
   ]
  },
  {
   "cell_type": "code",
   "execution_count": 16,
   "metadata": {},
   "outputs": [
    {
     "name": "stdout",
     "output_type": "stream",
     "text": [
      "Eigenvalues with correlation matrix: \n",
      "[ 2.91081808  0.92122093  0.14735328  0.02060771]\n",
      "Eigenvectors with correlation matrix: \n",
      "[[ 0.52237162 -0.37231836 -0.72101681  0.26199559]\n",
      " [-0.26335492 -0.92555649  0.24203288 -0.12413481]\n",
      " [ 0.58125401 -0.02109478  0.14089226 -0.80115427]\n",
      " [ 0.56561105 -0.06541577  0.6338014   0.52354627]]\n"
     ]
    }
   ],
   "source": [
    "eigen_values, eigen_vectors = eigen_decomposition(X_standardized, method='correlation')\n",
    "print('Eigenvalues with correlation matrix: \\n%s' % eigen_values)\n",
    "print('Eigenvectors with correlation matrix: \\n%s' % eigen_vectors)"
   ]
  },
  {
   "cell_type": "markdown",
   "metadata": {},
   "source": [
    "### Singular Vector Decomposition"
   ]
  },
  {
   "cell_type": "code",
   "execution_count": 17,
   "metadata": {
    "collapsed": true
   },
   "outputs": [],
   "source": [
    "# perform singular vector decomposition\n",
    "def singular_vector_decomposition(X_standardized):\n",
    "    u, s, v = np.linalg.svd(X_standardized.T)\n",
    "    return u, s, v"
   ]
  },
  {
   "cell_type": "code",
   "execution_count": 18,
   "metadata": {},
   "outputs": [
    {
     "name": "stdout",
     "output_type": "stream",
     "text": [
      "Eigenvectors with SVD: \n",
      "[[-0.52237162 -0.37231836  0.72101681  0.26199559]\n",
      " [ 0.26335492 -0.92555649 -0.24203288 -0.12413481]\n",
      " [-0.58125401 -0.02109478 -0.14089226 -0.80115427]\n",
      " [-0.56561105 -0.06541577 -0.6338014   0.52354627]]\n"
     ]
    }
   ],
   "source": [
    "u, s, v = singular_vector_decomposition(X_standardized)\n",
    "print(\"Eigenvectors with SVD: \\n%s\" % u)"
   ]
  },
  {
   "cell_type": "markdown",
   "metadata": {
    "collapsed": true
   },
   "source": [
    "## Step 2: Selecting Principal Components"
   ]
  },
  {
   "cell_type": "markdown",
   "metadata": {},
   "source": [
    "### Sorting Eigen Pairs"
   ]
  },
  {
   "cell_type": "code",
   "execution_count": 19,
   "metadata": {
    "collapsed": true
   },
   "outputs": [],
   "source": [
    "# sort eigen pairs\n",
    "def sort_eigen_pairs(eigen_values, eigen_vectors):\n",
    "\n",
    "    # make a list of (eigen value, eigen vector) tuples\n",
    "    eigen_pairs = list()\n",
    "    for i in range(len(eigen_values)):\n",
    "        eigen_pairs.append([np.abs(eigen_values[i]), eigen_vectors[:, i]])\n",
    "\n",
    "    # sort the (eigen value, eigen vector) tuples in descending order\n",
    "    eigen_pairs.sort(key=lambda x: x[0], reverse=True)\n",
    "\n",
    "    return eigen_pairs"
   ]
  },
  {
   "cell_type": "code",
   "execution_count": 20,
   "metadata": {},
   "outputs": [
    {
     "name": "stdout",
     "output_type": "stream",
     "text": [
      "Eigen values in descending order:\n",
      "2.91081808375\n",
      "0.921220930707\n",
      "0.147353278305\n",
      "0.0206077072356\n"
     ]
    }
   ],
   "source": [
    "eigen_pairs = sort_eigen_pairs(eigen_values, eigen_vectors)\n",
    "# visually verify descending order\n",
    "print(\"Eigen values in descending order:\")\n",
    "for i in range(len(eigen_values)):\n",
    "    print(eigen_pairs[i][0])"
   ]
  },
  {
   "cell_type": "markdown",
   "metadata": {},
   "source": [
    "### Explained Variance"
   ]
  },
  {
   "cell_type": "code",
   "execution_count": 21,
   "metadata": {
    "collapsed": true
   },
   "outputs": [],
   "source": [
    "# calculate explained variance\n",
    "def calculate_explained_variance(eigen_values):\n",
    "    \n",
    "    total = sum(eigen_values)\n",
    "    explained_variance = [(eigen_value / total)*100 for eigen_value in sorted(eigen_values, reverse=True)]\n",
    "    cumulative_explained_variance = np.cumsum(explained_variance)\n",
    "    \n",
    "    return explained_variance, cumulative_explained_variance"
   ]
  },
  {
   "cell_type": "code",
   "execution_count": 22,
   "metadata": {
    "collapsed": true
   },
   "outputs": [],
   "source": [
    "# plot explained variance\n",
    "def plot_explained_variance(explained_variance, cumulative_explained_variance):\n",
    "    \n",
    "    with plt.style.context('seaborn-whitegrid'):\n",
    "        plt.figure(figsize=(6, 4))\n",
    "        plt.bar(range(4), explained_variance, alpha=0.5, align='center', label='individual explained variance')\n",
    "        plt.step(range(4), cumulative_explained_variance, where='mid', label='cumulative explained variance')\n",
    "        plt.ylabel('Explained variance ratio')\n",
    "        plt.xlabel('Principal components')\n",
    "        plt.legend(loc='best')\n",
    "        plt.tight_layout()"
   ]
  },
  {
   "cell_type": "code",
   "execution_count": 23,
   "metadata": {},
   "outputs": [
    {
     "name": "stdout",
     "output_type": "stream",
     "text": [
      "Individual explained variance: \n",
      "[72.770452093801367, 23.030523267680632, 3.6838319576273806, 0.51519268089062908]\n",
      "Cumulative explained variance: \n",
      "[  72.77045209   95.80097536   99.48480732  100.        ]\n"
     ]
    },
    {
     "data": {
      "image/png": "[encoded data removed]",
      "text/plain": [
       "<matplotlib.figure.Figure at 0x1a15a752b0>"
      ]
     },
     "metadata": {},
     "output_type": "display_data"
    }
   ],
   "source": [
    "explained_variance, cumulative_explained_variance = calculate_explained_variance(eigen_values)\n",
    "print('Individual explained variance: \\n%s' % explained_variance)\n",
    "print('Cumulative explained variance: \\n%s' % cumulative_explained_variance)\n",
    "plot_explained_variance(explained_variance, cumulative_explained_variance)"
   ]
  },
  {
   "cell_type": "markdown",
   "metadata": {},
   "source": [
    "The plot above shows that the first principal component explains 72.77% of the variance, and that the second principal component explains 23.03% of the variance. Cumulatively, the first 2 principal components explain 95.8% of the variance. Therefore, we look into the first 2 principal components."
   ]
  },
  {
   "cell_type": "markdown",
   "metadata": {},
   "source": [
    "### Projection Matrix"
   ]
  },
  {
   "cell_type": "code",
   "execution_count": 24,
   "metadata": {
    "collapsed": true
   },
   "outputs": [],
   "source": [
    "def calculate_projection_matrix(eigen_pairs):\n",
    "    projection_matrix = np.hstack((eigen_pairs[0][1].reshape(4,1), \n",
    "                                   eigen_pairs[1][1].reshape(4,1)))\n",
    "    return projection_matrix"
   ]
  },
  {
   "cell_type": "code",
   "execution_count": 25,
   "metadata": {},
   "outputs": [
    {
     "name": "stdout",
     "output_type": "stream",
     "text": [
      "Projection matrix: \n",
      "[[ 0.52237162 -0.37231836]\n",
      " [-0.26335492 -0.92555649]\n",
      " [ 0.58125401 -0.02109478]\n",
      " [ 0.56561105 -0.06541577]]\n"
     ]
    }
   ],
   "source": [
    "projection_matrix = calculate_projection_matrix(eigen_pairs)\n",
    "print(\"Projection matrix: \\n%s\" % projection_matrix)"
   ]
  },
  {
   "cell_type": "markdown",
   "metadata": {},
   "source": [
    "## Step 3: Projection onto New Feature Subspace"
   ]
  },
  {
   "cell_type": "code",
   "execution_count": 26,
   "metadata": {
    "collapsed": true
   },
   "outputs": [],
   "source": [
    "def visualize_projection_matrix(projection_matrix):\n",
    "    \n",
    "    Y = X_standardized.dot(projection_matrix)\n",
    "    \n",
    "    with plt.style.context('seaborn-whitegrid'):\n",
    "        plt.figure(figsize=(6, 4))\n",
    "        for lab, col in zip(('Iris-setosa', 'Iris-versicolor', 'Iris-virginica'), \n",
    "                            ('blue', 'red', 'green')):\n",
    "            plt.scatter(Y[y==lab, 0],\n",
    "                        Y[y==lab, 1],\n",
    "                        label=lab,\n",
    "                        c=col)\n",
    "        plt.xlabel('Principal Component 1')\n",
    "        plt.ylabel('Principal Component 2')\n",
    "        plt.legend(loc='lower center')\n",
    "        plt.tight_layout()"
   ]
  },
  {
   "cell_type": "code",
   "execution_count": 27,
   "metadata": {},
   "outputs": [
    {
     "data": {
      "image/png": "[encoded data removed]",
      "text/plain": [
       "<matplotlib.figure.Figure at 0x1a165e1160>"
      ]
     },
     "metadata": {},
     "output_type": "display_data"
    }
   ],
   "source": [
    "visualize_projection_matrix(projection_matrix)"
   ]
  },
  {
   "cell_type": "markdown",
   "metadata": {},
   "source": [
    "## Shortcut: PCA with scikit-learn"
   ]
  },
  {
   "cell_type": "code",
   "execution_count": 28,
   "metadata": {},
   "outputs": [],
   "source": [
    "from sklearn.decomposition import PCA as sklearnPCA\n",
    "sklearn_PCA = sklearnPCA(n_components=2)\n",
    "sklearn_Y = sklearn_PCA.fit_transform(X_standardized)"
   ]
  },
  {
   "cell_type": "code",
   "execution_count": 29,
   "metadata": {},
   "outputs": [
    {
     "data": {
      "image/png": "[encoded data removed]",
      "text/plain": [
       "<matplotlib.figure.Figure at 0x1a15a4a0b8>"
      ]
     },
     "metadata": {},
     "output_type": "display_data"
    }
   ],
   "source": [
    "with plt.style.context('seaborn-whitegrid'):\n",
    "    plt.figure(figsize=(6, 4))\n",
    "    for lab, col in zip(('Iris-setosa', 'Iris-versicolor', 'Iris-virginica'), \n",
    "                        ('blue', 'red', 'green')):\n",
    "        plt.scatter(sklearn_Y[y==lab, 0],\n",
    "                    sklearn_Y[y==lab, 1],\n",
    "                    label=lab,\n",
    "                    c=col)\n",
    "    plt.xlabel('Principal Component 1')\n",
    "    plt.ylabel('Principal Component 2')\n",
    "    plt.legend(loc='lower center')\n",
    "    plt.tight_layout()"
   ]
  }
 ],
 "metadata": {
  "kernelspec": {
   "display_name": "Python 3",
   "language": "python",
   "name": "python3"
  },
  "language_info": {
   "codemirror_mode": {
    "name": "ipython",
    "version": 3
   },
   "file_extension": ".py",
   "mimetype": "text/x-python",
   "name": "python",
   "nbconvert_exporter": "python",
   "pygments_lexer": "ipython3",
   "version": "3.6.3"
  }
 },
 "nbformat": 4,
 "nbformat_minor": 1
}
